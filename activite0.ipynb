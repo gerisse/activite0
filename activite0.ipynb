{
 "cells": [
  {
   "cell_type": "markdown",
   "metadata": {},
   "source": [
    "# Activité 0\n",
    "## Importation de modules\n",
    "Les deux lignes suivantes importent deux modules pythons. Le module `numpy` ([http://www.numpy.org/](http://www.numpy.org/)) permet de faire du calcul numérique. Le module `matplotlib.pyplot` ([https://matplotlib.org/](https://matplotlib.org/)) gère le graphisme. Le mot clé `as` est suivi de deux mots qui constituent des raccourcis (*alias*) des noms des modules.\n",
    "Ainsi, pour faire référence au module `numpy`, il suffira de taper `np`."
   ]
  },
  {
   "cell_type": "code",
   "execution_count": null,
   "metadata": {},
   "outputs": [],
   "source": [
    "import numpy as np\n",
    "import matplotlib.pyplot as plt"
   ]
  },
  {
   "cell_type": "markdown",
   "metadata": {},
   "source": [
    "## Initialisations\n",
    "Les lignes suivantes définissent les variables utiles pour le code."
   ]
  },
  {
   "cell_type": "code",
   "execution_count": null,
   "metadata": {},
   "outputs": [],
   "source": [
    "t_min = 0.0\n",
    "t_max = 1.0\n",
    "n_t = 25"
   ]
  },
  {
   "cell_type": "markdown",
   "metadata": {},
   "source": [
    "## Discrétisation\n",
    "L'intervalle $[t_{min}, t_{max}]$ est discrétisé en un nombre $n_t - 1$ d'intervalles.\n",
    "\n",
    "$$ \\forall i \\in \\{ 0, \\dots, n_t-1 \\}, \\quad t_{i} = t_{min} + i \\times \\frac{t_{max} - t_{min}}{n_t - 1}$$\n",
    "\n",
    "En python, la fonction `linspace` du module `numpy` réalise automatiquement cette discrétisation. La ligne de code suivante affecte à la variable `t` un tableau de valeurs de tous les instants compris entre $t_{min}$ et $t_{max}$."
   ]
  },
  {
   "cell_type": "code",
   "execution_count": null,
   "metadata": {},
   "outputs": [],
   "source": [
    "t = np.linspace(t_min,t_max,n_t)"
   ]
  },
  {
   "cell_type": "code",
   "execution_count": null,
   "metadata": {},
   "outputs": [],
   "source": [
    "print(t)"
   ]
  },
  {
   "cell_type": "markdown",
   "metadata": {},
   "source": [
    "## Affichage d'un nuage de points\n",
    "On place les points associés aux couples $(t_i,y_i)$, avec $i \\in \\{ 0, \\dots, n_t-1 \\}$ où :\n",
    "$$ y(t) = \\exp(-t / \\tau) \\cos(\\omega t)$$"
   ]
  },
  {
   "cell_type": "code",
   "execution_count": null,
   "metadata": {},
   "outputs": [],
   "source": [
    "# paramètres de la fonction\n",
    "omega = 2.0 * np.pi\n",
    "tau = 10.0\n",
    "# tableau de valeurs y\n",
    "y = np.exp(-t/tau) * np.cos(omega * t)"
   ]
  },
  {
   "cell_type": "code",
   "execution_count": null,
   "metadata": {},
   "outputs": [],
   "source": [
    "# tracé du nuage de points\n",
    "plt.plot(t,y,'b+-')\n",
    "# affichage du nuage de points\n",
    "plt.show()"
   ]
  },
  {
   "cell_type": "code",
   "execution_count": null,
   "metadata": {},
   "outputs": [],
   "source": [
    "# tracé du nuage de points\n",
    "plt.plot(t,y,'ro')\n",
    "# affichage du nuage de points\n",
    "plt.show()"
   ]
  }
 ],
 "metadata": {
  "kernelspec": {
   "display_name": "Python 3",
   "language": "python",
   "name": "python3"
  },
  "language_info": {
   "codemirror_mode": {
    "name": "ipython",
    "version": 3
   },
   "file_extension": ".py",
   "mimetype": "text/x-python",
   "name": "python",
   "nbconvert_exporter": "python",
   "pygments_lexer": "ipython3",
   "version": "3.6.8"
  }
 },
 "nbformat": 4,
 "nbformat_minor": 2
}
